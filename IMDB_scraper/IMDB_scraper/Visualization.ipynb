{
 "cells": [
  {
   "cell_type": "code",
   "execution_count": 1,
   "id": "bb566abf-189e-44a2-989f-6e9d8058a407",
   "metadata": {},
   "outputs": [],
   "source": [
    "import pandas as pd"
   ]
  },
  {
   "cell_type": "code",
   "execution_count": 3,
   "id": "bee2270e-4f4a-4470-81c4-a2f38157e161",
   "metadata": {},
   "outputs": [
    {
     "data": {
      "text/html": [
       "<div>\n",
       "<style scoped>\n",
       "    .dataframe tbody tr th:only-of-type {\n",
       "        vertical-align: middle;\n",
       "    }\n",
       "\n",
       "    .dataframe tbody tr th {\n",
       "        vertical-align: top;\n",
       "    }\n",
       "\n",
       "    .dataframe thead th {\n",
       "        text-align: right;\n",
       "    }\n",
       "</style>\n",
       "<table border=\"1\" class=\"dataframe\">\n",
       "  <thead>\n",
       "    <tr style=\"text-align: right;\">\n",
       "      <th></th>\n",
       "      <th>actor</th>\n",
       "      <th>movie_or_TV_name</th>\n",
       "    </tr>\n",
       "  </thead>\n",
       "  <tbody>\n",
       "    <tr>\n",
       "      <th>0</th>\n",
       "      <td>Eric Sykes</td>\n",
       "      <td>Poirot</td>\n",
       "    </tr>\n",
       "    <tr>\n",
       "      <th>1</th>\n",
       "      <td>Eric Sykes</td>\n",
       "      <td>Hallowe'en Party</td>\n",
       "    </tr>\n",
       "    <tr>\n",
       "      <th>2</th>\n",
       "      <td>Eric Sykes</td>\n",
       "      <td>Heartbeat</td>\n",
       "    </tr>\n",
       "    <tr>\n",
       "      <th>3</th>\n",
       "      <td>Eric Sykes</td>\n",
       "      <td>Night Mail</td>\n",
       "    </tr>\n",
       "    <tr>\n",
       "      <th>4</th>\n",
       "      <td>Eric Sykes</td>\n",
       "      <td>Last of the Summer Wine</td>\n",
       "    </tr>\n",
       "    <tr>\n",
       "      <th>...</th>\n",
       "      <td>...</td>\n",
       "      <td>...</td>\n",
       "    </tr>\n",
       "    <tr>\n",
       "      <th>18362</th>\n",
       "      <td>David Tennant</td>\n",
       "      <td>Timeshift</td>\n",
       "    </tr>\n",
       "    <tr>\n",
       "      <th>18363</th>\n",
       "      <td>David Tennant</td>\n",
       "      <td>Parallel Worlds: A User's Guide</td>\n",
       "    </tr>\n",
       "    <tr>\n",
       "      <th>18364</th>\n",
       "      <td>David Tennant</td>\n",
       "      <td>A Taste of My Life</td>\n",
       "    </tr>\n",
       "    <tr>\n",
       "      <th>18365</th>\n",
       "      <td>David Tennant</td>\n",
       "      <td>Tracy-Ann Oberman</td>\n",
       "    </tr>\n",
       "    <tr>\n",
       "      <th>18366</th>\n",
       "      <td>David Tennant</td>\n",
       "      <td>Greatest Before They Were Stars TV Moments</td>\n",
       "    </tr>\n",
       "  </tbody>\n",
       "</table>\n",
       "<p>18367 rows × 2 columns</p>\n",
       "</div>"
      ],
      "text/plain": [
       "               actor                            movie_or_TV_name\n",
       "0         Eric Sykes                                      Poirot\n",
       "1         Eric Sykes                            Hallowe'en Party\n",
       "2         Eric Sykes                                   Heartbeat\n",
       "3         Eric Sykes                                  Night Mail\n",
       "4         Eric Sykes                     Last of the Summer Wine\n",
       "...              ...                                         ...\n",
       "18362  David Tennant                                   Timeshift\n",
       "18363  David Tennant             Parallel Worlds: A User's Guide\n",
       "18364  David Tennant                          A Taste of My Life\n",
       "18365  David Tennant                           Tracy-Ann Oberman\n",
       "18366  David Tennant  Greatest Before They Were Stars TV Moments\n",
       "\n",
       "[18367 rows x 2 columns]"
      ]
     },
     "execution_count": 3,
     "metadata": {},
     "output_type": "execute_result"
    }
   ],
   "source": [
    "df = pd.read_csv(\"results.csv\")\n",
    "df"
   ]
  },
  {
   "cell_type": "code",
   "execution_count": null,
   "id": "edd48a69-d426-45e1-b8d8-26f1d9c6b798",
   "metadata": {},
   "outputs": [],
   "source": []
  }
 ],
 "metadata": {
  "kernelspec": {
   "display_name": "Python [conda env:PIC16B] *",
   "language": "python",
   "name": "conda-env-PIC16B-py"
  },
  "language_info": {
   "codemirror_mode": {
    "name": "ipython",
    "version": 3
   },
   "file_extension": ".py",
   "mimetype": "text/x-python",
   "name": "python",
   "nbconvert_exporter": "python",
   "pygments_lexer": "ipython3",
   "version": "3.7.11"
  }
 },
 "nbformat": 4,
 "nbformat_minor": 5
}
